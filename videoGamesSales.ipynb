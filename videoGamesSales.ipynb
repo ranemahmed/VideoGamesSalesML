{
 "cells": [
  {
   "cell_type": "markdown",
   "id": "cc50677f",
   "metadata": {},
   "source": [
    "# Video Games Sales Prediction "
   ]
  },
  {
   "cell_type": "markdown",
   "id": "4ac3f36f",
   "metadata": {},
   "source": [
    "**Done by: Eng. Raneem Ahmed Refaat**"
   ]
  },
  {
   "cell_type": "markdown",
   "id": "a528d2e1",
   "metadata": {},
   "source": [
    "📌**Project Overview**"
   ]
  },
  {
   "cell_type": "markdown",
   "id": "759e565d",
   "metadata": {},
   "source": [
    "This project aims to analyze and predict global video game sales using machine learning models. By exploring historical data on game performance, platform trends, genre popularity, and publisher impact, we aim to identify key factors that influence global sales volume. This project involves:\n",
    "\n",
    "- Data preprocessing and handling missing values\n",
    "\n",
    "- Encoding categorical features like Platform, Genre, and Publisher\n",
    "\n",
    "- Feature analysis\n",
    "\n",
    "- Training regression models to predict Global_Sales\n",
    "\n",
    "- Evaluating model performance and interpreting results\n",
    "\n",
    "This analysis helps uncover insights into what makes a video game successful in terms of worldwide sales."
   ]
  },
  {
   "cell_type": "markdown",
   "id": "e1053930",
   "metadata": {},
   "source": [
    "📂 **Dataset Description**"
   ]
  },
  {
   "cell_type": "markdown",
   "id": "97092754",
   "metadata": {},
   "source": [
    "- Source: Kaggle / Public Dataset on Video Game Sales\n",
    "- Rows: ~16,500\n",
    "- Columns: 11\n",
    "- Target Variable: Global_Sales (in millions)"
   ]
  },
  {
   "cell_type": "markdown",
   "id": "8ed3e453",
   "metadata": {},
   "source": [
    "- **Feature Description** \n",
    "  - **Rank**: Sales rank of the game  \n",
    "  - **Name**: Name of the video game  \n",
    "  - **Platform**: Gaming platform (e.g., PS4, Xbox, PC, etc.)  \n",
    "  - **Year**: Year of release  \n",
    "  - **Genre**: Genre category (e.g., Action, Sports, RPG)  \n",
    "  - **Publisher**: Company that published the game  \n",
    "  - **NA_Sales**: Sales in North America (in millions)  \n",
    "  - **EU_Sales**: Sales in Europe (in millions)  \n",
    "  - **JP_Sales**: Sales in Japan (in millions)  \n",
    "  - **Other_Sales**: Sales in other regions (in millions)  \n",
    "  - **Global_Sales**: Total worldwide sales (target variable)"
   ]
  },
  {
   "cell_type": "markdown",
   "id": "689499e0",
   "metadata": {},
   "source": [
    "- **Models I'll Use:**\n",
    "  - Linear Regression \n",
    "  - Decision Tree\n",
    "  - Random Forest\n",
    "  - Support Vector Machine (SVR)\n",
    "  - XGBoost"
   ]
  },
  {
   "cell_type": "markdown",
   "id": "73f2e392",
   "metadata": {},
   "source": [
    "Imported all the essential libraries required for the project for data handling, data visualizing, data preprocessing, model building , model evaluation and saving/loading models"
   ]
  },
  {
   "cell_type": "code",
   "execution_count": 1,
   "id": "2fddd43f",
   "metadata": {},
   "outputs": [],
   "source": [
    "import numpy as np\n",
    "import pandas as pd \n",
    "import matplotlib.pyplot as plt\n",
    "import re\n",
    "from sklearn.preprocessing import LabelEncoder, StandardScaler\n",
    "from sklearn.model_selection import train_test_split\n",
    "from sklearn.linear_model import LinearRegression\n",
    "from sklearn.tree import DecisionTreeRegressor\n",
    "from sklearn.ensemble import RandomForestRegressor\n",
    "from sklearn.svm import SVR\n",
    "from xgboost import XGBRegressor\n",
    "from sklearn.metrics import mean_squared_error, r2_score\n",
    "import os\n",
    "import joblib\n"
   ]
  },
  {
   "cell_type": "markdown",
   "id": "cbf51311",
   "metadata": {},
   "source": [
    "To keep the notebook modular and clean, we define everything to be a function"
   ]
  },
  {
   "cell_type": "markdown",
   "id": "e4768378",
   "metadata": {},
   "source": [
    "Starting from **load_data** function that loads dataset from csv file.\n",
    "- It takes the csv file as path \n",
    "- Reads csv and load it into pandas dataframe\n",
    "- Return the dataframe to be used in notebook "
   ]
  },
  {
   "cell_type": "code",
   "execution_count": 2,
   "id": "89b59336",
   "metadata": {},
   "outputs": [],
   "source": [
    "def load_data(path):\n",
    "    df = pd.read_csv(path)\n",
    "    return df"
   ]
  },
  {
   "cell_type": "markdown",
   "id": "dce4223d",
   "metadata": {},
   "source": [
    "Next we use the load_data function to **load data** from the csv file and **.head()** to view the first 5 rows in data. \n",
    "\n",
    "This step is essential for initial exploration. It helps confirm that the data was loaded correctly and gives a quick snapshot of values and data types."
   ]
  },
  {
   "cell_type": "code",
   "execution_count": 3,
   "id": "85e7f8b3",
   "metadata": {},
   "outputs": [
    {
     "data": {
      "text/html": [
       "<div>\n",
       "<style scoped>\n",
       "    .dataframe tbody tr th:only-of-type {\n",
       "        vertical-align: middle;\n",
       "    }\n",
       "\n",
       "    .dataframe tbody tr th {\n",
       "        vertical-align: top;\n",
       "    }\n",
       "\n",
       "    .dataframe thead th {\n",
       "        text-align: right;\n",
       "    }\n",
       "</style>\n",
       "<table border=\"1\" class=\"dataframe\">\n",
       "  <thead>\n",
       "    <tr style=\"text-align: right;\">\n",
       "      <th></th>\n",
       "      <th>Rank</th>\n",
       "      <th>Name</th>\n",
       "      <th>Platform</th>\n",
       "      <th>Year</th>\n",
       "      <th>Genre</th>\n",
       "      <th>Publisher</th>\n",
       "      <th>NA_Sales</th>\n",
       "      <th>EU_Sales</th>\n",
       "      <th>JP_Sales</th>\n",
       "      <th>Other_Sales</th>\n",
       "      <th>Global_Sales</th>\n",
       "    </tr>\n",
       "  </thead>\n",
       "  <tbody>\n",
       "    <tr>\n",
       "      <th>0</th>\n",
       "      <td>1</td>\n",
       "      <td>Wii Sports</td>\n",
       "      <td>Wii</td>\n",
       "      <td>2006.0</td>\n",
       "      <td>Sports</td>\n",
       "      <td>Nintendo</td>\n",
       "      <td>41.49</td>\n",
       "      <td>29.02</td>\n",
       "      <td>3.77</td>\n",
       "      <td>8.46</td>\n",
       "      <td>82.74</td>\n",
       "    </tr>\n",
       "    <tr>\n",
       "      <th>1</th>\n",
       "      <td>2</td>\n",
       "      <td>Super Mario Bros.</td>\n",
       "      <td>NES</td>\n",
       "      <td>1985.0</td>\n",
       "      <td>Platform</td>\n",
       "      <td>Nintendo</td>\n",
       "      <td>29.08</td>\n",
       "      <td>3.58</td>\n",
       "      <td>6.81</td>\n",
       "      <td>0.77</td>\n",
       "      <td>40.24</td>\n",
       "    </tr>\n",
       "    <tr>\n",
       "      <th>2</th>\n",
       "      <td>3</td>\n",
       "      <td>Mario Kart Wii</td>\n",
       "      <td>Wii</td>\n",
       "      <td>2008.0</td>\n",
       "      <td>Racing</td>\n",
       "      <td>Nintendo</td>\n",
       "      <td>15.85</td>\n",
       "      <td>12.88</td>\n",
       "      <td>3.79</td>\n",
       "      <td>3.31</td>\n",
       "      <td>35.82</td>\n",
       "    </tr>\n",
       "    <tr>\n",
       "      <th>3</th>\n",
       "      <td>4</td>\n",
       "      <td>Wii Sports Resort</td>\n",
       "      <td>Wii</td>\n",
       "      <td>2009.0</td>\n",
       "      <td>Sports</td>\n",
       "      <td>Nintendo</td>\n",
       "      <td>15.75</td>\n",
       "      <td>11.01</td>\n",
       "      <td>3.28</td>\n",
       "      <td>2.96</td>\n",
       "      <td>33.00</td>\n",
       "    </tr>\n",
       "    <tr>\n",
       "      <th>4</th>\n",
       "      <td>5</td>\n",
       "      <td>Pokemon Red/Pokemon Blue</td>\n",
       "      <td>GB</td>\n",
       "      <td>1996.0</td>\n",
       "      <td>Role-Playing</td>\n",
       "      <td>Nintendo</td>\n",
       "      <td>11.27</td>\n",
       "      <td>8.89</td>\n",
       "      <td>10.22</td>\n",
       "      <td>1.00</td>\n",
       "      <td>31.37</td>\n",
       "    </tr>\n",
       "  </tbody>\n",
       "</table>\n",
       "</div>"
      ],
      "text/plain": [
       "   Rank                      Name Platform    Year         Genre Publisher  \\\n",
       "0     1                Wii Sports      Wii  2006.0        Sports  Nintendo   \n",
       "1     2         Super Mario Bros.      NES  1985.0      Platform  Nintendo   \n",
       "2     3            Mario Kart Wii      Wii  2008.0        Racing  Nintendo   \n",
       "3     4         Wii Sports Resort      Wii  2009.0        Sports  Nintendo   \n",
       "4     5  Pokemon Red/Pokemon Blue       GB  1996.0  Role-Playing  Nintendo   \n",
       "\n",
       "   NA_Sales  EU_Sales  JP_Sales  Other_Sales  Global_Sales  \n",
       "0     41.49     29.02      3.77         8.46         82.74  \n",
       "1     29.08      3.58      6.81         0.77         40.24  \n",
       "2     15.85     12.88      3.79         3.31         35.82  \n",
       "3     15.75     11.01      3.28         2.96         33.00  \n",
       "4     11.27      8.89     10.22         1.00         31.37  "
      ]
     },
     "execution_count": 3,
     "metadata": {},
     "output_type": "execute_result"
    }
   ],
   "source": [
    "df = load_data('video_games_sales.csv')\n",
    "df.head()"
   ]
  },
  {
   "cell_type": "markdown",
   "id": "80c4c342",
   "metadata": {},
   "source": [
    "**.shape** is used next to give insight on the shape of the data, it return a tuple that contain: (Number of Rows, Number of Columns)\n"
   ]
  },
  {
   "cell_type": "code",
   "execution_count": 4,
   "id": "186e6f9a",
   "metadata": {},
   "outputs": [
    {
     "data": {
      "text/plain": [
       "(16598, 11)"
      ]
     },
     "execution_count": 4,
     "metadata": {},
     "output_type": "execute_result"
    }
   ],
   "source": [
    "df.shape"
   ]
  },
  {
   "cell_type": "markdown",
   "id": "460d1e2c",
   "metadata": {},
   "source": [
    "- The dataset contains 16,598 video games and 11 features.\n",
    "- The data is large enough dataset to train meaningful machine learning models after preprocessing."
   ]
  },
  {
   "cell_type": "markdown",
   "id": "fe610b08",
   "metadata": {},
   "source": [
    "Next **.info()** used to get a summary of the dataset, including:\n",
    "- Total entries\n",
    "- Non-null counts\n",
    "- Data types\n",
    "- Memory usage\n",
    "\n",
    "Which helped me realise that: \n",
    "- Two columns have missing values:\n",
    "  - Year: 16,327 non-null \n",
    "  - Publisher: 16,540 non-null \n",
    "  \n",
    "- Name, Platform, Genre, Publisher are categorical data that needs encoding "
   ]
  },
  {
   "cell_type": "code",
   "execution_count": 5,
   "id": "60463154",
   "metadata": {},
   "outputs": [
    {
     "name": "stdout",
     "output_type": "stream",
     "text": [
      "<class 'pandas.core.frame.DataFrame'>\n",
      "RangeIndex: 16598 entries, 0 to 16597\n",
      "Data columns (total 11 columns):\n",
      " #   Column        Non-Null Count  Dtype  \n",
      "---  ------        --------------  -----  \n",
      " 0   Rank          16598 non-null  int64  \n",
      " 1   Name          16598 non-null  object \n",
      " 2   Platform      16598 non-null  object \n",
      " 3   Year          16327 non-null  float64\n",
      " 4   Genre         16598 non-null  object \n",
      " 5   Publisher     16540 non-null  object \n",
      " 6   NA_Sales      16598 non-null  float64\n",
      " 7   EU_Sales      16598 non-null  float64\n",
      " 8   JP_Sales      16598 non-null  float64\n",
      " 9   Other_Sales   16598 non-null  float64\n",
      " 10  Global_Sales  16598 non-null  float64\n",
      "dtypes: float64(6), int64(1), object(4)\n",
      "memory usage: 1.4+ MB\n"
     ]
    }
   ],
   "source": [
    "df.info()"
   ]
  },
  {
   "cell_type": "markdown",
   "id": "2bf713e3",
   "metadata": {},
   "source": [
    "checked for null (missing) values in each column using **.isnull()** and we sum the number of nulls using **.sum()**, reaching that 271 are missing in year and 58 in Publisher.\n"
   ]
  },
  {
   "cell_type": "code",
   "execution_count": 6,
   "id": "07fc9d95",
   "metadata": {},
   "outputs": [
    {
     "data": {
      "text/plain": [
       "Rank              0\n",
       "Name              0\n",
       "Platform          0\n",
       "Year            271\n",
       "Genre             0\n",
       "Publisher        58\n",
       "NA_Sales          0\n",
       "EU_Sales          0\n",
       "JP_Sales          0\n",
       "Other_Sales       0\n",
       "Global_Sales      0\n",
       "dtype: int64"
      ]
     },
     "execution_count": 6,
     "metadata": {},
     "output_type": "execute_result"
    }
   ],
   "source": [
    "df.isnull().sum()"
   ]
  },
  {
   "cell_type": "markdown",
   "id": "ae107a7e",
   "metadata": {},
   "source": [
    "To prepare our dataset for machine learning, we define a function **preprocess_data(df)** that performs:\n",
    "- Data cleaning\n",
    "- Feature engineering\n",
    "- Encoding of categorical variables\n",
    "- Feature scaling\n",
    "\n",
    "1. Rank is dropped as it is an ordering column that will have no effect on ML task\n",
    "\n",
    "2. I handled missing values: \n",
    "  - year is filled with median values, then converted to int\n",
    "  - Published missing values are filled with 'Unknown' as a placeholder so model can learn from it without losing data by dropping rows.\n",
    "\n",
    "3. I extracted features from the Name column which represnts the Game Title by Feature Engineering: \n",
    "  - **Name_Length**: Length of the title as longer names might affect discoverability \n",
    "  - **Word_Count**: Number of words in the title  \n",
    "  - **Is_Sequel**:  is it likely a sequel? Detects numbers in the title  \n",
    "  - **First_Word**: First word of the game title (some franchises are very consistent)\n",
    "  *Then we drop Name since it's no longer needed after extraction.*\n",
    "\n",
    "4. We apply **One-Hot Encoding** on Platform and Genre since they have many unique values with no ordinal relationship.\n",
    "\n",
    "5. We use **Label Encoding** for Publisher and First_Word since they can have high cardinality but are less likely to benefit from one-hot (or memory-intensive).\n",
    "\n",
    "6. define features and target \n",
    "  - **X**: All features except the target\n",
    "  - **y**: Global_Sales (the value we are predicting)\n",
    "\n",
    "7. Used **Standard Scaler** to standardizes all numeric features. \n",
    "\n",
    "8. then returned the cleaned, encoded, and scaled features X_scaled and the target variable y.\n",
    "\n",
    "This preprocessing ensures:\n",
    "- The data is clean and numeric  \n",
    "- Categorical features are handled  \n",
    "- The dataset is ready for model training\n",
    "\n"
   ]
  },
  {
   "cell_type": "code",
   "execution_count": 7,
   "id": "7cd6e029",
   "metadata": {},
   "outputs": [],
   "source": [
    "def preprocess_data(df):\n",
    "\n",
    "    df = df.drop(columns=['Rank'])\n",
    "\n",
    "    # Fix missing values\n",
    "    df['Year'] = df['Year'].fillna(df['Year'].median())\n",
    "    df['Publisher'] = df['Publisher'].fillna('Unknown')\n",
    "    df['Year'] = df['Year'].astype(int)\n",
    "\n",
    " \n",
    "    # Feature Engineering on Name\n",
    "    df['Name_Length'] = df['Name'].apply(lambda x: len(str(x)))\n",
    "    df['Word_Count'] = df['Name'].apply(lambda x: len(str(x).split()))\n",
    "    df['Is_Sequel'] = df['Name'].apply(lambda x: 1 if re.search(r'\\b\\d+\\b', str(x)) else 0)\n",
    "    df['First_Word'] = df['Name'].apply(lambda x: str(x).split()[0])\n",
    "\n",
    "    df = df.drop(columns=['Name'])\n",
    "\n",
    "     #encode\n",
    "    onehot_cols = ['Platform', 'Genre']\n",
    "    df = pd.get_dummies(df, columns=onehot_cols, drop_first=True)\n",
    "\n",
    "    col = ['Publisher','First_Word']\n",
    "    le = LabelEncoder()\n",
    "    for col in col:\n",
    "     df[col] = le.fit_transform(df[col])\n",
    "\n",
    "    X = df.drop('Global_Sales', axis=1)\n",
    "    y = df['Global_Sales']\n",
    "\n",
    "    # Scale features\n",
    "    scaler = StandardScaler()\n",
    "    X_scaled = scaler.fit_transform(X)\n",
    "    \n",
    "    return X_scaled, y\n"
   ]
  },
  {
   "cell_type": "markdown",
   "id": "fb58f399",
   "metadata": {},
   "source": [
    "**split_data** function splits the dataset into training and testing sets... it takes :\n",
    "- **X** : Features\n",
    "- **y** : Target variable (Global_Sales)\n",
    "- **test_size=0.2** : 20% of the data will be used for testing, 80% for training\n",
    "- **random_state=42** : Ensures reproducibility by keeping the same random split every time"
   ]
  },
  {
   "cell_type": "code",
   "execution_count": 8,
   "id": "d1cac5bd",
   "metadata": {},
   "outputs": [],
   "source": [
    "def split_data(X, y, test_size=0.2, random_state=42):\n",
    "    return train_test_split(X, y, test_size=test_size, random_state=random_state)"
   ]
  },
  {
   "cell_type": "markdown",
   "id": "20134e8b",
   "metadata": {},
   "source": [
    "defined a function **get_models()** that returns a dictionary of pre-configured regression models. \n",
    "\n",
    "This structure helps in easily looping through models for training and evaluation."
   ]
  },
  {
   "cell_type": "code",
   "execution_count": 9,
   "id": "d2bb109d",
   "metadata": {},
   "outputs": [],
   "source": [
    "def get_models():\n",
    "    models = {\n",
    "        'Linear Regression': LinearRegression(),\n",
    "\n",
    "        'Decision Tree': DecisionTreeRegressor(\n",
    "            max_depth=11,              \n",
    "            random_state=42\n",
    "        ),\n",
    "\n",
    "        'Random Forest': RandomForestRegressor(\n",
    "            n_estimators=200,\n",
    "            max_depth=11,                \n",
    "            random_state=42\n",
    "        ),\n",
    "\n",
    "        'Support Vector': SVR(\n",
    "            kernel='linear'\n",
    "        ),\n",
    "\n",
    "        'XGBoost': XGBRegressor(\n",
    "            n_estimators=100,\n",
    "            max_depth=5,\n",
    "            learning_rate=0.3,\n",
    "            random_state=42\n",
    "        )\n",
    "    }\n",
    "\n",
    "    return models\n"
   ]
  },
  {
   "cell_type": "markdown",
   "id": "9e0fdf84",
   "metadata": {},
   "source": [
    "This function **evaluate_models_with_train_test()** does the following:\n",
    "- Trains each regression model from **get_models()**\n",
    "- Predicts values on both training and testing sets\n",
    "- Calculates evaluation metrics: R² score and RMSE\n",
    "- Results are saved as a dictionary for each mode\n",
    "- Returns a sorted DataFrame of results for comparison"
   ]
  },
  {
   "cell_type": "markdown",
   "id": "a61971d7",
   "metadata": {},
   "source": [
    "- **R² Score:** Coefficient of determination, indicates how well a regression model fits the data\n",
    "- **RMSE:** Root Mean Squared Error, measures prediction error in the same unit as the target"
   ]
  },
  {
   "cell_type": "code",
   "execution_count": 10,
   "id": "5e27ccbc",
   "metadata": {},
   "outputs": [],
   "source": [
    "def evaluate_models_with_train_test(X_train, X_test, y_train, y_test):\n",
    "\n",
    "    models = get_models()\n",
    "    results = []\n",
    "\n",
    "    for name, model in models.items():\n",
    "        model.fit(X_train, y_train)\n",
    "\n",
    "        y_pred_test = model.predict(X_test)\n",
    "        y_pred_train = model.predict(X_train)\n",
    "\n",
    "        r2_train = r2_score(y_train, y_pred_train)\n",
    "        r2_test = r2_score(y_test, y_pred_test)\n",
    "        rmse_test = np.sqrt(mean_squared_error(y_test, y_pred_test))\n",
    "\n",
    "        results.append({\n",
    "            'Model': name,\n",
    "            'RMSE_Test': round(rmse_test, 3),\n",
    "            'R2_Train (%)': round(r2_train * 100, 2),\n",
    "            'R2_Test (%)': round(r2_test * 100, 2)\n",
    "        })\n",
    "\n",
    "    return pd.DataFrame(results).sort_values(by='R2_Test (%)', ascending=False)\n"
   ]
  },
  {
   "cell_type": "markdown",
   "id": "a34addfd",
   "metadata": {},
   "source": [
    "**display_results** functionis used to print the evaluation summary of all regression models in a clean, tabular format"
   ]
  },
  {
   "cell_type": "code",
   "execution_count": 11,
   "id": "c7590e4c",
   "metadata": {},
   "outputs": [],
   "source": [
    "def display_results(results):\n",
    "    df_results = pd.DataFrame(results)\n",
    "    df_results = df_results\n",
    "    print(df_results)"
   ]
  },
  {
   "cell_type": "markdown",
   "id": "6a66f379",
   "metadata": {},
   "source": [
    "**save_model** function works once the best-performing model is identified , it is used so we can save it for later reuse or deployment. This function handles that using the **joblib** library\n",
    "\n",
    "- **model**: The trained machine learning model\n",
    "- **path**: File path to store the model "
   ]
  },
  {
   "cell_type": "code",
   "execution_count": 12,
   "id": "cd632be0",
   "metadata": {},
   "outputs": [],
   "source": [
    "def save_model(model, path):\n",
    "    joblib.dump(model, path)\n",
    "    print(f\"Model saved Successfully\")"
   ]
  },
  {
   "cell_type": "markdown",
   "id": "3aa28070",
   "metadata": {},
   "source": [
    "**load_model** function help load a previously saved model from a .pkl file using joblib."
   ]
  },
  {
   "cell_type": "code",
   "execution_count": 13,
   "id": "f812dcc3",
   "metadata": {},
   "outputs": [],
   "source": [
    "def load_model(path):\n",
    "    if os.path.exists(path):\n",
    "        return joblib.load(path)\n",
    "    else:\n",
    "        raise FileNotFoundError(f\"No model found at {path}\")"
   ]
  },
  {
   "cell_type": "markdown",
   "id": "b30c3d02",
   "metadata": {},
   "source": [
    "In this final step, we put the entire machine learning pipeline into action"
   ]
  },
  {
   "cell_type": "code",
   "execution_count": 14,
   "id": "f1fdaa0f",
   "metadata": {},
   "outputs": [
    {
     "name": "stdout",
     "output_type": "stream",
     "text": [
      "               Model  RMSE_Test  R2_Train (%)  R2_Test (%)\n",
      "0  Linear Regression      0.005        100.00       100.00\n",
      "3     Support Vector      0.047         99.89        99.95\n",
      "1      Decision Tree      0.782         99.89        85.43\n",
      "2      Random Forest      0.880         99.61        81.57\n",
      "4            XGBoost      0.907         99.98        80.41\n",
      "\n",
      " best model: Linear Regression\n",
      "Model saved Successfully\n"
     ]
    }
   ],
   "source": [
    "MODEL_PATH = 'VideoGamesSales.pkl'\n",
    "DATA_PATH = 'video_games_sales.csv'\n",
    "TEST_SIZE = 0.2\n",
    "RANDOM_STATE = 42\n",
    "\n",
    "df = load_data(DATA_PATH) #load data from csv file\n",
    "X, y = preprocess_data(df) # prepare data for training\n",
    "X_train, X_test, y_train, y_test = split_data(X, y, test_size=TEST_SIZE, random_state=RANDOM_STATE) #split data into training and testing sets\n",
    "results_df = evaluate_models_with_train_test(X_train, X_test, y_train, y_test) #evaluate models with train and test data\n",
    "display_results(results_df) #display evaluation metrics of each model\n",
    "\n",
    "best_model_name = results_df.iloc[0]['Model'] #find the best model based on R² score\n",
    "print(f\"\\n best model: {best_model_name}\")\n",
    "\n",
    "# Retrieve and train the best model using the full training set\n",
    "models = get_models() \n",
    "best_model = models[best_model_name]\n",
    "best_model.fit(X_train, y_train)\n",
    "\n",
    "save_model(best_model, MODEL_PATH)# Save the trained best model\n"
   ]
  },
  {
   "cell_type": "markdown",
   "id": "86ed5725",
   "metadata": {},
   "source": [
    "To better understand how each model performed and whether it overfits or generalizes well, i visualize the **R² scores** using side byside bar charts using **plot_r2_train_and_test** function."
   ]
  },
  {
   "cell_type": "code",
   "execution_count": 15,
   "id": "6c1586b0",
   "metadata": {},
   "outputs": [],
   "source": [
    "def plot_r2_train_and_test(results_df):\n",
    "    models = results_df['Model']\n",
    "    r2_train = results_df['R2_Train (%)']\n",
    "    r2_test = results_df['R2_Test (%)']\n",
    "\n",
    "    fig, (ax1, ax2) = plt.subplots(1, 2, figsize=(14, 6), sharey=False)\n",
    "\n",
    "    # Left: Train R²\n",
    "    ax1.bar(models, r2_train, color='skyblue')\n",
    "    ax1.set_title('R² Score on Training Set')\n",
    "    ax1.set_xlabel('Model')\n",
    "    ax1.set_ylabel('R² (%)')\n",
    "    ax1.set_ylim(99, 100) #to better show the subtle diffrences \n",
    "    ax1.grid(axis='y', linestyle='--', alpha=0.7)\n",
    "    ax1.tick_params(axis='x', rotation=45)\n",
    "\n",
    "    # Right: Test R²\n",
    "    ax2.bar(models, r2_test, color='lightcoral')\n",
    "    ax2.set_title('R² Score on Testing Set')\n",
    "    ax2.set_xlabel('Model')\n",
    "    ax2.set_ylim(80, 100)\n",
    "    ax2.grid(axis='y', linestyle='--', alpha=0.7)\n",
    "    ax2.tick_params(axis='x', rotation=45)\n",
    "\n",
    "    plt.suptitle('Model R² Comparison (Train vs Test)', fontsize=14, y=1.02)\n",
    "    plt.tight_layout()\n",
    "    plt.show()\n"
   ]
  },
  {
   "cell_type": "code",
   "execution_count": 16,
   "id": "5fc81720",
   "metadata": {},
   "outputs": [
    {
     "data": {
      "image/png": "[encoded data removed]",
      "text/plain": [
       "<Figure size 1400x600 with 2 Axes>"
      ]
     },
     "metadata": {},
     "output_type": "display_data"
    }
   ],
   "source": [
    "plot_r2_train_and_test(results_df)\n"
   ]
  },
  {
   "cell_type": "markdown",
   "id": "96e018bc",
   "metadata": {},
   "source": [
    "**Key Observations:**\n",
    "- **Linear Regression** performs exceptionally well, achieving ~100% R-squared on both training and testing sets.\n",
    " This suggests a strong generalization with minimal overfitting.\n",
    "\n",
    "- **Support Vector Regressor (SVR)** also shows very high test performance (~99.9%), indicating good predictive capability.\n",
    "\n",
    "- **Decision Tree, Random Forest, and XGBoost** show:\n",
    " - High training R² (nearly 100%), but significantly lower test R² and its a sign of overfitting (the models memorize training data but fail to generalize)\n",
    "\n",
    "\n",
    "At the end , based on both visual performance and numerical results, **Linear Regression** is the best-performing model for this dataset.\n",
    "\n",
    "\n"
   ]
  }
 ],
 "metadata": {
  "kernelspec": {
   "display_name": "base",
   "language": "python",
   "name": "python3"
  },
  "language_info": {
   "codemirror_mode": {
    "name": "ipython",
    "version": 3
   },
   "file_extension": ".py",
   "mimetype": "text/x-python",
   "name": "python",
   "nbconvert_exporter": "python",
   "pygments_lexer": "ipython3",
   "version": "3.13.5"
  }
 },
 "nbformat": 4,
 "nbformat_minor": 5
}
